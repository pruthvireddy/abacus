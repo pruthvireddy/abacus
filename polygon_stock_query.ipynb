{
  "nbformat": 4,
  "nbformat_minor": 0,
  "metadata": {
    "colab": {
      "provenance": [],
      "authorship_tag": "ABX9TyO1lh8okQcq/V0U0ngHCcHh",
      "include_colab_link": true
    },
    "kernelspec": {
      "name": "python3",
      "display_name": "Python 3"
    },
    "language_info": {
      "name": "python"
    }
  },
  "cells": [
    {
      "cell_type": "markdown",
      "metadata": {
        "id": "view-in-github",
        "colab_type": "text"
      },
      "source": [
        "<a href=\"https://colab.research.google.com/github/pruthvireddy/abacus/blob/main/polygon_stock_query.ipynb\" target=\"_parent\"><img src=\"https://colab.research.google.com/assets/colab-badge.svg\" alt=\"Open In Colab\"/></a>"
      ]
    },
    {
      "cell_type": "markdown",
      "source": [
        "# Setup Files"
      ],
      "metadata": {
        "id": "cyfrw1l6-c4u"
      }
    },
    {
      "cell_type": "code",
      "execution_count": 19,
      "metadata": {
        "colab": {
          "base_uri": "https://localhost:8080/"
        },
        "outputId": "66984068-6268-4d07-b7b8-ed5de433f9d7",
        "id": "S_p4j7ky-c4u"
      },
      "outputs": [
        {
          "output_type": "stream",
          "name": "stdout",
          "text": [
            "Mounted at /content/drive\n"
          ]
        }
      ],
      "source": [
        "from google.colab import drive\n",
        "drive.mount('/content/drive')"
      ]
    },
    {
      "cell_type": "code",
      "source": [
        "%cd /content/drive/My Drive/Github/abacus"
      ],
      "metadata": {
        "colab": {
          "base_uri": "https://localhost:8080/"
        },
        "outputId": "45cb1d59-0858-483a-8fff-2f1dabf2f833",
        "id": "PAph3qeS-c4u"
      },
      "execution_count": 20,
      "outputs": [
        {
          "output_type": "stream",
          "name": "stdout",
          "text": [
            "/content/drive/My Drive/Github/abacus\n"
          ]
        }
      ]
    },
    {
      "cell_type": "code",
      "source": [
        "!git config --global user.name \"Pruthvi Panati\"\n",
        "!git config --global user.email \"pruthvi5007@gmail.com\""
      ],
      "metadata": {
        "id": "TBx0Ul1e-c4v"
      },
      "execution_count": 46,
      "outputs": []
    },
    {
      "cell_type": "markdown",
      "source": [
        "# Setup Project"
      ],
      "metadata": {
        "id": "PQbQArKk-XdF"
      }
    },
    {
      "cell_type": "code",
      "source": [
        "# This code retrieves stock market data for a specific stock using the\n",
        "# Polygon REST API and writes it to a CSV file. It uses the \"polygon\"\n",
        "# library to communicate with the API and the \"csv\" library to write\n",
        "# the data to a CSV file. The script retrieves data for the stock \"AAPL\"\n",
        "# for the dates \"2023-01-30\" to \"2023-02-03\" in 1 hour intervals. The\n",
        "# resulting data includes the open, high, low, close, volume, vwap,\n",
        "# timestamp, transactions, and otc values for each hour. The output is\n",
        "# then printed to the console.\n",
        "from polygon import RESTClient\n",
        "from polygon.rest.models import (\n",
        "    Agg,\n",
        ")\n",
        "import pandas as pd\n",
        "import csv\n",
        "import datetime\n",
        "import io\n",
        "\n",
        "# docs\n",
        "# https://polygon.io/docs/stocks/get_v2_aggs_ticker__stocksticker__range__multiplier___timespan___from___to\n",
        "# https://polygon-api-client.readthedocs.io/en/latest/Aggs.html#polygon.RESTClient.list_aggs\n",
        "\n",
        "client = RESTClient(\"ImKB1_hq_ZqfULYOdd2ANBgQNyzKWrWH\") # hardcoded api_key is used\n",
        "#client = RESTClient()  # POLYGON_API_KEY environment variable is used\n"
      ],
      "metadata": {
        "id": "_5Uzd662pifD"
      },
      "execution_count": 22,
      "outputs": []
    },
    {
      "cell_type": "markdown",
      "source": [
        "# Query API for Data"
      ],
      "metadata": {
        "id": "vIsgaNWxBnnm"
      }
    },
    {
      "cell_type": "code",
      "source": [
        "def query_aggregates_to_dataframe(\n",
        "    client,\n",
        "    ticker: str,\n",
        "    start_date: str,\n",
        "    end_date: str,\n",
        "    interval: int = 1,\n",
        "    timespan: str = \"hour\"\n",
        ") -> pd.DataFrame:\n",
        "    \"\"\"\n",
        "    Query the API for aggregates of a specific ticker symbol and return data as a pandas DataFrame\n",
        "    with separate date and time columns.\n",
        "\n",
        "    Args:\n",
        "        client: The API client object.\n",
        "        ticker: The ticker symbol to query (e.g., \"AAPL\").\n",
        "        start_date: The start date for the query in \"YYYY-MM-DD\" format.\n",
        "        end_date: The end date for the query in \"YYYY-MM-DD\" format.\n",
        "        interval: The aggregation interval (default is 1).\n",
        "        timespan: The aggregation timespan (e.g., \"hour\", default is \"hour\").\n",
        "\n",
        "    Returns:\n",
        "        A pandas DataFrame containing the aggregated data. Returns an empty DataFrame if no data is retrieved.\n",
        "    \"\"\"\n",
        "    aggs = []\n",
        "    for agg in client.list_aggs(ticker, interval, timespan, start_date, end_date, limit=50000):\n",
        "        aggs.append(agg)\n",
        "\n",
        "    # Prepare data for DataFrame\n",
        "    data = []\n",
        "    for agg in aggs:\n",
        "        if isinstance(agg, Agg) and isinstance(agg.timestamp, int):\n",
        "            data.append({\n",
        "                \"timestamp\": datetime.datetime.fromtimestamp(agg.timestamp / 1000),\n",
        "                \"date\": datetime.datetime.fromtimestamp(agg.timestamp / 1000).date(),\n",
        "                \"time\": datetime.datetime.fromtimestamp(agg.timestamp / 1000).time(),\n",
        "                \"open\": agg.open,\n",
        "                \"high\": agg.high,\n",
        "                \"low\": agg.low,\n",
        "                \"close\": agg.close,\n",
        "                \"volume\": agg.volume,\n",
        "                \"vwap\": agg.vwap,\n",
        "                \"transactions\": agg.transactions,\n",
        "                \"otc\": agg.otc,\n",
        "            })\n",
        "\n",
        "    # Convert to pandas DataFrame\n",
        "    df = pd.DataFrame(data)\n",
        "    return df"
      ],
      "metadata": {
        "id": "nqGSPsNs_bt0"
      },
      "execution_count": 24,
      "outputs": []
    },
    {
      "cell_type": "code",
      "source": [
        "# Initialize an empty DataFrame to store the data\n",
        "#tqqq_hourly_historical = pd.DataFrame()\n",
        "\n",
        "\n",
        "# Fetch the data for the year\n",
        "yearly_data = query_aggregates(\n",
        "    client=client,\n",
        "    ticker=\"TQQQ\",\n",
        "    start_date=\"2024-01-01\",\n",
        "    end_date=\"2024-12-31\"\n",
        ")"
      ],
      "metadata": {
        "id": "O8Z9_ofiyRLN"
      },
      "execution_count": 37,
      "outputs": []
    },
    {
      "cell_type": "code",
      "source": [
        "\n",
        "# Append the data to the main DataFrame\n",
        "tqqq_hourly_historical = pd.concat([tqqq_hourly_historical, yearly_data], ignore_index=True)\n"
      ],
      "metadata": {
        "id": "yDDtLNcDzdyT"
      },
      "execution_count": 38,
      "outputs": []
    },
    {
      "cell_type": "code",
      "source": [
        "tqqq_hourly_historical"
      ],
      "metadata": {
        "colab": {
          "base_uri": "https://localhost:8080/",
          "height": 424
        },
        "id": "AsHE36TnvnvC",
        "outputId": "9c28146b-c0e2-42ac-8c27-8e46a8422ccc"
      },
      "execution_count": 39,
      "outputs": [
        {
          "output_type": "execute_result",
          "data": {
            "text/plain": [
              "               timestamp     open     high    low  close     volume     vwap  \\\n",
              "0    2023-01-10 09:00:00  17.9500  18.0300  17.86  18.03   617594.0  17.9424   \n",
              "1    2023-01-10 10:00:00  18.0300  18.1100  17.97  18.08   276479.0  18.0531   \n",
              "2    2023-01-10 11:00:00  18.0800  18.0900  17.78  17.83   532070.0  17.9019   \n",
              "3    2023-01-10 12:00:00  17.8300  17.8300  17.57  17.68  1704808.0  17.6766   \n",
              "4    2023-01-10 13:00:00  17.8200  18.0985  17.57  17.73  4129057.0  17.6708   \n",
              "...                  ...      ...      ...    ...    ...        ...      ...   \n",
              "7922 2024-12-31 20:00:00  79.6300  80.1700  78.75  79.12  8632997.0  79.4571   \n",
              "7923 2024-12-31 21:00:00  79.1100  79.4298  78.86  79.26   551812.0  79.2615   \n",
              "7924 2024-12-31 22:00:00  79.2799  79.3700  79.17  79.17   140587.0  79.2727   \n",
              "7925 2024-12-31 23:00:00  79.1799  79.1799  79.05  79.10    95928.0  79.1141   \n",
              "7926 2025-01-01 00:00:00  79.0900  79.2700  79.08  79.18   119196.0  79.1593   \n",
              "\n",
              "      transactions   otc  \n",
              "0             3668  None  \n",
              "1             2748  None  \n",
              "2             4715  None  \n",
              "3             7698  None  \n",
              "4            11865  None  \n",
              "...            ...   ...  \n",
              "7922         58035  None  \n",
              "7923          3799  None  \n",
              "7924          1398  None  \n",
              "7925          1002  None  \n",
              "7926          1908  None  \n",
              "\n",
              "[7927 rows x 9 columns]"
            ],
            "text/html": [
              "\n",
              "  <div id=\"df-d40e1851-344c-4205-b9f2-71a832433eb2\" class=\"colab-df-container\">\n",
              "    <div>\n",
              "<style scoped>\n",
              "    .dataframe tbody tr th:only-of-type {\n",
              "        vertical-align: middle;\n",
              "    }\n",
              "\n",
              "    .dataframe tbody tr th {\n",
              "        vertical-align: top;\n",
              "    }\n",
              "\n",
              "    .dataframe thead th {\n",
              "        text-align: right;\n",
              "    }\n",
              "</style>\n",
              "<table border=\"1\" class=\"dataframe\">\n",
              "  <thead>\n",
              "    <tr style=\"text-align: right;\">\n",
              "      <th></th>\n",
              "      <th>timestamp</th>\n",
              "      <th>open</th>\n",
              "      <th>high</th>\n",
              "      <th>low</th>\n",
              "      <th>close</th>\n",
              "      <th>volume</th>\n",
              "      <th>vwap</th>\n",
              "      <th>transactions</th>\n",
              "      <th>otc</th>\n",
              "    </tr>\n",
              "  </thead>\n",
              "  <tbody>\n",
              "    <tr>\n",
              "      <th>0</th>\n",
              "      <td>2023-01-10 09:00:00</td>\n",
              "      <td>17.9500</td>\n",
              "      <td>18.0300</td>\n",
              "      <td>17.86</td>\n",
              "      <td>18.03</td>\n",
              "      <td>617594.0</td>\n",
              "      <td>17.9424</td>\n",
              "      <td>3668</td>\n",
              "      <td>None</td>\n",
              "    </tr>\n",
              "    <tr>\n",
              "      <th>1</th>\n",
              "      <td>2023-01-10 10:00:00</td>\n",
              "      <td>18.0300</td>\n",
              "      <td>18.1100</td>\n",
              "      <td>17.97</td>\n",
              "      <td>18.08</td>\n",
              "      <td>276479.0</td>\n",
              "      <td>18.0531</td>\n",
              "      <td>2748</td>\n",
              "      <td>None</td>\n",
              "    </tr>\n",
              "    <tr>\n",
              "      <th>2</th>\n",
              "      <td>2023-01-10 11:00:00</td>\n",
              "      <td>18.0800</td>\n",
              "      <td>18.0900</td>\n",
              "      <td>17.78</td>\n",
              "      <td>17.83</td>\n",
              "      <td>532070.0</td>\n",
              "      <td>17.9019</td>\n",
              "      <td>4715</td>\n",
              "      <td>None</td>\n",
              "    </tr>\n",
              "    <tr>\n",
              "      <th>3</th>\n",
              "      <td>2023-01-10 12:00:00</td>\n",
              "      <td>17.8300</td>\n",
              "      <td>17.8300</td>\n",
              "      <td>17.57</td>\n",
              "      <td>17.68</td>\n",
              "      <td>1704808.0</td>\n",
              "      <td>17.6766</td>\n",
              "      <td>7698</td>\n",
              "      <td>None</td>\n",
              "    </tr>\n",
              "    <tr>\n",
              "      <th>4</th>\n",
              "      <td>2023-01-10 13:00:00</td>\n",
              "      <td>17.8200</td>\n",
              "      <td>18.0985</td>\n",
              "      <td>17.57</td>\n",
              "      <td>17.73</td>\n",
              "      <td>4129057.0</td>\n",
              "      <td>17.6708</td>\n",
              "      <td>11865</td>\n",
              "      <td>None</td>\n",
              "    </tr>\n",
              "    <tr>\n",
              "      <th>...</th>\n",
              "      <td>...</td>\n",
              "      <td>...</td>\n",
              "      <td>...</td>\n",
              "      <td>...</td>\n",
              "      <td>...</td>\n",
              "      <td>...</td>\n",
              "      <td>...</td>\n",
              "      <td>...</td>\n",
              "      <td>...</td>\n",
              "    </tr>\n",
              "    <tr>\n",
              "      <th>7922</th>\n",
              "      <td>2024-12-31 20:00:00</td>\n",
              "      <td>79.6300</td>\n",
              "      <td>80.1700</td>\n",
              "      <td>78.75</td>\n",
              "      <td>79.12</td>\n",
              "      <td>8632997.0</td>\n",
              "      <td>79.4571</td>\n",
              "      <td>58035</td>\n",
              "      <td>None</td>\n",
              "    </tr>\n",
              "    <tr>\n",
              "      <th>7923</th>\n",
              "      <td>2024-12-31 21:00:00</td>\n",
              "      <td>79.1100</td>\n",
              "      <td>79.4298</td>\n",
              "      <td>78.86</td>\n",
              "      <td>79.26</td>\n",
              "      <td>551812.0</td>\n",
              "      <td>79.2615</td>\n",
              "      <td>3799</td>\n",
              "      <td>None</td>\n",
              "    </tr>\n",
              "    <tr>\n",
              "      <th>7924</th>\n",
              "      <td>2024-12-31 22:00:00</td>\n",
              "      <td>79.2799</td>\n",
              "      <td>79.3700</td>\n",
              "      <td>79.17</td>\n",
              "      <td>79.17</td>\n",
              "      <td>140587.0</td>\n",
              "      <td>79.2727</td>\n",
              "      <td>1398</td>\n",
              "      <td>None</td>\n",
              "    </tr>\n",
              "    <tr>\n",
              "      <th>7925</th>\n",
              "      <td>2024-12-31 23:00:00</td>\n",
              "      <td>79.1799</td>\n",
              "      <td>79.1799</td>\n",
              "      <td>79.05</td>\n",
              "      <td>79.10</td>\n",
              "      <td>95928.0</td>\n",
              "      <td>79.1141</td>\n",
              "      <td>1002</td>\n",
              "      <td>None</td>\n",
              "    </tr>\n",
              "    <tr>\n",
              "      <th>7926</th>\n",
              "      <td>2025-01-01 00:00:00</td>\n",
              "      <td>79.0900</td>\n",
              "      <td>79.2700</td>\n",
              "      <td>79.08</td>\n",
              "      <td>79.18</td>\n",
              "      <td>119196.0</td>\n",
              "      <td>79.1593</td>\n",
              "      <td>1908</td>\n",
              "      <td>None</td>\n",
              "    </tr>\n",
              "  </tbody>\n",
              "</table>\n",
              "<p>7927 rows × 9 columns</p>\n",
              "</div>\n",
              "    <div class=\"colab-df-buttons\">\n",
              "\n",
              "  <div class=\"colab-df-container\">\n",
              "    <button class=\"colab-df-convert\" onclick=\"convertToInteractive('df-d40e1851-344c-4205-b9f2-71a832433eb2')\"\n",
              "            title=\"Convert this dataframe to an interactive table.\"\n",
              "            style=\"display:none;\">\n",
              "\n",
              "  <svg xmlns=\"http://www.w3.org/2000/svg\" height=\"24px\" viewBox=\"0 -960 960 960\">\n",
              "    <path d=\"M120-120v-720h720v720H120Zm60-500h600v-160H180v160Zm220 220h160v-160H400v160Zm0 220h160v-160H400v160ZM180-400h160v-160H180v160Zm440 0h160v-160H620v160ZM180-180h160v-160H180v160Zm440 0h160v-160H620v160Z\"/>\n",
              "  </svg>\n",
              "    </button>\n",
              "\n",
              "  <style>\n",
              "    .colab-df-container {\n",
              "      display:flex;\n",
              "      gap: 12px;\n",
              "    }\n",
              "\n",
              "    .colab-df-convert {\n",
              "      background-color: #E8F0FE;\n",
              "      border: none;\n",
              "      border-radius: 50%;\n",
              "      cursor: pointer;\n",
              "      display: none;\n",
              "      fill: #1967D2;\n",
              "      height: 32px;\n",
              "      padding: 0 0 0 0;\n",
              "      width: 32px;\n",
              "    }\n",
              "\n",
              "    .colab-df-convert:hover {\n",
              "      background-color: #E2EBFA;\n",
              "      box-shadow: 0px 1px 2px rgba(60, 64, 67, 0.3), 0px 1px 3px 1px rgba(60, 64, 67, 0.15);\n",
              "      fill: #174EA6;\n",
              "    }\n",
              "\n",
              "    .colab-df-buttons div {\n",
              "      margin-bottom: 4px;\n",
              "    }\n",
              "\n",
              "    [theme=dark] .colab-df-convert {\n",
              "      background-color: #3B4455;\n",
              "      fill: #D2E3FC;\n",
              "    }\n",
              "\n",
              "    [theme=dark] .colab-df-convert:hover {\n",
              "      background-color: #434B5C;\n",
              "      box-shadow: 0px 1px 3px 1px rgba(0, 0, 0, 0.15);\n",
              "      filter: drop-shadow(0px 1px 2px rgba(0, 0, 0, 0.3));\n",
              "      fill: #FFFFFF;\n",
              "    }\n",
              "  </style>\n",
              "\n",
              "    <script>\n",
              "      const buttonEl =\n",
              "        document.querySelector('#df-d40e1851-344c-4205-b9f2-71a832433eb2 button.colab-df-convert');\n",
              "      buttonEl.style.display =\n",
              "        google.colab.kernel.accessAllowed ? 'block' : 'none';\n",
              "\n",
              "      async function convertToInteractive(key) {\n",
              "        const element = document.querySelector('#df-d40e1851-344c-4205-b9f2-71a832433eb2');\n",
              "        const dataTable =\n",
              "          await google.colab.kernel.invokeFunction('convertToInteractive',\n",
              "                                                    [key], {});\n",
              "        if (!dataTable) return;\n",
              "\n",
              "        const docLinkHtml = 'Like what you see? Visit the ' +\n",
              "          '<a target=\"_blank\" href=https://colab.research.google.com/notebooks/data_table.ipynb>data table notebook</a>'\n",
              "          + ' to learn more about interactive tables.';\n",
              "        element.innerHTML = '';\n",
              "        dataTable['output_type'] = 'display_data';\n",
              "        await google.colab.output.renderOutput(dataTable, element);\n",
              "        const docLink = document.createElement('div');\n",
              "        docLink.innerHTML = docLinkHtml;\n",
              "        element.appendChild(docLink);\n",
              "      }\n",
              "    </script>\n",
              "  </div>\n",
              "\n",
              "\n",
              "<div id=\"df-4babe3cc-0c5a-4e74-98b3-3c90e2668f54\">\n",
              "  <button class=\"colab-df-quickchart\" onclick=\"quickchart('df-4babe3cc-0c5a-4e74-98b3-3c90e2668f54')\"\n",
              "            title=\"Suggest charts\"\n",
              "            style=\"display:none;\">\n",
              "\n",
              "<svg xmlns=\"http://www.w3.org/2000/svg\" height=\"24px\"viewBox=\"0 0 24 24\"\n",
              "     width=\"24px\">\n",
              "    <g>\n",
              "        <path d=\"M19 3H5c-1.1 0-2 .9-2 2v14c0 1.1.9 2 2 2h14c1.1 0 2-.9 2-2V5c0-1.1-.9-2-2-2zM9 17H7v-7h2v7zm4 0h-2V7h2v10zm4 0h-2v-4h2v4z\"/>\n",
              "    </g>\n",
              "</svg>\n",
              "  </button>\n",
              "\n",
              "<style>\n",
              "  .colab-df-quickchart {\n",
              "      --bg-color: #E8F0FE;\n",
              "      --fill-color: #1967D2;\n",
              "      --hover-bg-color: #E2EBFA;\n",
              "      --hover-fill-color: #174EA6;\n",
              "      --disabled-fill-color: #AAA;\n",
              "      --disabled-bg-color: #DDD;\n",
              "  }\n",
              "\n",
              "  [theme=dark] .colab-df-quickchart {\n",
              "      --bg-color: #3B4455;\n",
              "      --fill-color: #D2E3FC;\n",
              "      --hover-bg-color: #434B5C;\n",
              "      --hover-fill-color: #FFFFFF;\n",
              "      --disabled-bg-color: #3B4455;\n",
              "      --disabled-fill-color: #666;\n",
              "  }\n",
              "\n",
              "  .colab-df-quickchart {\n",
              "    background-color: var(--bg-color);\n",
              "    border: none;\n",
              "    border-radius: 50%;\n",
              "    cursor: pointer;\n",
              "    display: none;\n",
              "    fill: var(--fill-color);\n",
              "    height: 32px;\n",
              "    padding: 0;\n",
              "    width: 32px;\n",
              "  }\n",
              "\n",
              "  .colab-df-quickchart:hover {\n",
              "    background-color: var(--hover-bg-color);\n",
              "    box-shadow: 0 1px 2px rgba(60, 64, 67, 0.3), 0 1px 3px 1px rgba(60, 64, 67, 0.15);\n",
              "    fill: var(--button-hover-fill-color);\n",
              "  }\n",
              "\n",
              "  .colab-df-quickchart-complete:disabled,\n",
              "  .colab-df-quickchart-complete:disabled:hover {\n",
              "    background-color: var(--disabled-bg-color);\n",
              "    fill: var(--disabled-fill-color);\n",
              "    box-shadow: none;\n",
              "  }\n",
              "\n",
              "  .colab-df-spinner {\n",
              "    border: 2px solid var(--fill-color);\n",
              "    border-color: transparent;\n",
              "    border-bottom-color: var(--fill-color);\n",
              "    animation:\n",
              "      spin 1s steps(1) infinite;\n",
              "  }\n",
              "\n",
              "  @keyframes spin {\n",
              "    0% {\n",
              "      border-color: transparent;\n",
              "      border-bottom-color: var(--fill-color);\n",
              "      border-left-color: var(--fill-color);\n",
              "    }\n",
              "    20% {\n",
              "      border-color: transparent;\n",
              "      border-left-color: var(--fill-color);\n",
              "      border-top-color: var(--fill-color);\n",
              "    }\n",
              "    30% {\n",
              "      border-color: transparent;\n",
              "      border-left-color: var(--fill-color);\n",
              "      border-top-color: var(--fill-color);\n",
              "      border-right-color: var(--fill-color);\n",
              "    }\n",
              "    40% {\n",
              "      border-color: transparent;\n",
              "      border-right-color: var(--fill-color);\n",
              "      border-top-color: var(--fill-color);\n",
              "    }\n",
              "    60% {\n",
              "      border-color: transparent;\n",
              "      border-right-color: var(--fill-color);\n",
              "    }\n",
              "    80% {\n",
              "      border-color: transparent;\n",
              "      border-right-color: var(--fill-color);\n",
              "      border-bottom-color: var(--fill-color);\n",
              "    }\n",
              "    90% {\n",
              "      border-color: transparent;\n",
              "      border-bottom-color: var(--fill-color);\n",
              "    }\n",
              "  }\n",
              "</style>\n",
              "\n",
              "  <script>\n",
              "    async function quickchart(key) {\n",
              "      const quickchartButtonEl =\n",
              "        document.querySelector('#' + key + ' button');\n",
              "      quickchartButtonEl.disabled = true;  // To prevent multiple clicks.\n",
              "      quickchartButtonEl.classList.add('colab-df-spinner');\n",
              "      try {\n",
              "        const charts = await google.colab.kernel.invokeFunction(\n",
              "            'suggestCharts', [key], {});\n",
              "      } catch (error) {\n",
              "        console.error('Error during call to suggestCharts:', error);\n",
              "      }\n",
              "      quickchartButtonEl.classList.remove('colab-df-spinner');\n",
              "      quickchartButtonEl.classList.add('colab-df-quickchart-complete');\n",
              "    }\n",
              "    (() => {\n",
              "      let quickchartButtonEl =\n",
              "        document.querySelector('#df-4babe3cc-0c5a-4e74-98b3-3c90e2668f54 button');\n",
              "      quickchartButtonEl.style.display =\n",
              "        google.colab.kernel.accessAllowed ? 'block' : 'none';\n",
              "    })();\n",
              "  </script>\n",
              "</div>\n",
              "\n",
              "  <div id=\"id_b54b80eb-6eea-4694-9964-6805197f9566\">\n",
              "    <style>\n",
              "      .colab-df-generate {\n",
              "        background-color: #E8F0FE;\n",
              "        border: none;\n",
              "        border-radius: 50%;\n",
              "        cursor: pointer;\n",
              "        display: none;\n",
              "        fill: #1967D2;\n",
              "        height: 32px;\n",
              "        padding: 0 0 0 0;\n",
              "        width: 32px;\n",
              "      }\n",
              "\n",
              "      .colab-df-generate:hover {\n",
              "        background-color: #E2EBFA;\n",
              "        box-shadow: 0px 1px 2px rgba(60, 64, 67, 0.3), 0px 1px 3px 1px rgba(60, 64, 67, 0.15);\n",
              "        fill: #174EA6;\n",
              "      }\n",
              "\n",
              "      [theme=dark] .colab-df-generate {\n",
              "        background-color: #3B4455;\n",
              "        fill: #D2E3FC;\n",
              "      }\n",
              "\n",
              "      [theme=dark] .colab-df-generate:hover {\n",
              "        background-color: #434B5C;\n",
              "        box-shadow: 0px 1px 3px 1px rgba(0, 0, 0, 0.15);\n",
              "        filter: drop-shadow(0px 1px 2px rgba(0, 0, 0, 0.3));\n",
              "        fill: #FFFFFF;\n",
              "      }\n",
              "    </style>\n",
              "    <button class=\"colab-df-generate\" onclick=\"generateWithVariable('tqqq_hourly_historical')\"\n",
              "            title=\"Generate code using this dataframe.\"\n",
              "            style=\"display:none;\">\n",
              "\n",
              "  <svg xmlns=\"http://www.w3.org/2000/svg\" height=\"24px\"viewBox=\"0 0 24 24\"\n",
              "       width=\"24px\">\n",
              "    <path d=\"M7,19H8.4L18.45,9,17,7.55,7,17.6ZM5,21V16.75L18.45,3.32a2,2,0,0,1,2.83,0l1.4,1.43a1.91,1.91,0,0,1,.58,1.4,1.91,1.91,0,0,1-.58,1.4L9.25,21ZM18.45,9,17,7.55Zm-12,3A5.31,5.31,0,0,0,4.9,8.1,5.31,5.31,0,0,0,1,6.5,5.31,5.31,0,0,0,4.9,4.9,5.31,5.31,0,0,0,6.5,1,5.31,5.31,0,0,0,8.1,4.9,5.31,5.31,0,0,0,12,6.5,5.46,5.46,0,0,0,6.5,12Z\"/>\n",
              "  </svg>\n",
              "    </button>\n",
              "    <script>\n",
              "      (() => {\n",
              "      const buttonEl =\n",
              "        document.querySelector('#id_b54b80eb-6eea-4694-9964-6805197f9566 button.colab-df-generate');\n",
              "      buttonEl.style.display =\n",
              "        google.colab.kernel.accessAllowed ? 'block' : 'none';\n",
              "\n",
              "      buttonEl.onclick = () => {\n",
              "        google.colab.notebook.generateWithVariable('tqqq_hourly_historical');\n",
              "      }\n",
              "      })();\n",
              "    </script>\n",
              "  </div>\n",
              "\n",
              "    </div>\n",
              "  </div>\n"
            ],
            "application/vnd.google.colaboratory.intrinsic+json": {
              "type": "dataframe",
              "variable_name": "tqqq_hourly_historical",
              "repr_error": "Out of range float values are not JSON compliant: nan"
            }
          },
          "metadata": {},
          "execution_count": 39
        }
      ]
    },
    {
      "cell_type": "markdown",
      "source": [
        "# Save the Data"
      ],
      "metadata": {
        "id": "Cp6oE0OG_gMc"
      }
    },
    {
      "cell_type": "code",
      "source": [
        "folder_path = '/content/drive/My Drive/Github/abacus/data/'\n",
        "\n",
        "# Specify the file path\n",
        "file_path = folder_path + 'tqqq_2023_2024.csv'\n",
        "\n",
        "# Write DataFrame to CSV\n",
        "tqqq_hourly_historical.to_csv(file_path, index=False)\n",
        "print(f\"CSV saved at: {file_path}\")"
      ],
      "metadata": {
        "colab": {
          "base_uri": "https://localhost:8080/"
        },
        "id": "tF0t8rAqpMT-",
        "outputId": "8e907617-b825-45b0-a30b-88463419d746"
      },
      "execution_count": 42,
      "outputs": [
        {
          "output_type": "stream",
          "name": "stdout",
          "text": [
            "CSV saved at: /content/drive/My Drive/Github/abacus/data/tqqq_2023_2024.csv\n"
          ]
        }
      ]
    },
    {
      "cell_type": "code",
      "source": [
        "!git add .\n",
        "!git commit -m \"Update from Colab\""
      ],
      "metadata": {
        "colab": {
          "base_uri": "https://localhost:8080/"
        },
        "id": "bJO6JhjsFKBs",
        "outputId": "1471d6cb-3e58-4270-ed50-441f9f4d6a6b"
      },
      "execution_count": 44,
      "outputs": [
        {
          "output_type": "stream",
          "name": "stdout",
          "text": [
            "On branch main\n",
            "Your branch is ahead of 'origin/main' by 1 commit.\n",
            "  (use \"git push\" to publish your local commits)\n",
            "\n",
            "nothing to commit, working tree clean\n",
            "fatal: could not read Username for 'https://github.com': No such device or address\n"
          ]
        }
      ]
    },
    {
      "cell_type": "code",
      "source": [
        "!git push origin main"
      ],
      "metadata": {
        "colab": {
          "base_uri": "https://localhost:8080/"
        },
        "id": "L4uouGfbFf_b",
        "outputId": "6c4a6dc3-4ddf-4024-bbe4-abcfe4c5c24e"
      },
      "execution_count": 45,
      "outputs": [
        {
          "output_type": "stream",
          "name": "stdout",
          "text": [
            "fatal: could not read Username for 'https://github.com': No such device or address\n"
          ]
        }
      ]
    },
    {
      "cell_type": "code",
      "source": [],
      "metadata": {
        "id": "6ucrznHjFo5a"
      },
      "execution_count": null,
      "outputs": []
    }
  ]
}